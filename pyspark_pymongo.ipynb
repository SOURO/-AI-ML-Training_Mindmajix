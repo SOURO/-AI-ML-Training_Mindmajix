{
 "cells": [
  {
   "cell_type": "markdown",
   "id": "87744cef",
   "metadata": {},
   "source": [
    "# pyspark"
   ]
  },
  {
   "cell_type": "code",
   "execution_count": 1,
   "id": "3f05252c",
   "metadata": {},
   "outputs": [
    {
     "name": "stderr",
     "output_type": "stream",
     "text": [
      "/home/souro/AI-ML-Training_Mindmajix/venv_aimltrn/lib/python3.6/site-packages/pyspark/context.py:238: FutureWarning: Python 3.6 support is deprecated in Spark 3.2.\n",
      "  FutureWarning\n"
     ]
    }
   ],
   "source": [
    "import pyspark\n",
    "from pyspark import SparkContext\n",
    "sc =SparkContext()"
   ]
  },
  {
   "cell_type": "code",
   "execution_count": 2,
   "id": "ea9c61a3",
   "metadata": {},
   "outputs": [],
   "source": [
    "nums = sc.parallelize([1,2,3,4])"
   ]
  },
  {
   "cell_type": "code",
   "execution_count": 3,
   "id": "7a0a1d87",
   "metadata": {},
   "outputs": [
    {
     "data": {
      "text/plain": [
       "[1]"
      ]
     },
     "execution_count": 3,
     "metadata": {},
     "output_type": "execute_result"
    }
   ],
   "source": [
    "nums.take(1)"
   ]
  },
  {
   "cell_type": "code",
   "execution_count": 4,
   "id": "28a9bea4",
   "metadata": {},
   "outputs": [
    {
     "name": "stdout",
     "output_type": "stream",
     "text": [
      "1 \n",
      "4 \n",
      "9 \n",
      "16 \n"
     ]
    }
   ],
   "source": [
    "squared = nums.map(lambda x: x*x).collect()\n",
    "for num in squared:\n",
    "    print('%i ' % (num))"
   ]
  },
  {
   "cell_type": "code",
   "execution_count": 5,
   "id": "e541b567",
   "metadata": {},
   "outputs": [
    {
     "name": "stderr",
     "output_type": "stream",
     "text": [
      "/home/souro/AI-ML-Training_Mindmajix/venv_aimltrn/lib/python3.6/site-packages/pyspark/sql/context.py:79: FutureWarning: Deprecated in 3.0.0. Use SparkSession.builder.getOrCreate() instead.\n",
      "  FutureWarning\n"
     ]
    }
   ],
   "source": [
    "from pyspark.sql import Row\n",
    "from pyspark.sql import SQLContext\n",
    "\n",
    "sqlContext = SQLContext(sc)"
   ]
  },
  {
   "cell_type": "code",
   "execution_count": 6,
   "id": "86f74814",
   "metadata": {},
   "outputs": [],
   "source": [
    "list_p = [('John',19),('Smith',29),('Adam',35),('Henry',50)]\n",
    "rdd = sc.parallelize(list_p)\n",
    "ppl = rdd.map(lambda x: Row(name=x[0], age=int(x[1])))"
   ]
  },
  {
   "cell_type": "code",
   "execution_count": 8,
   "id": "f708926f",
   "metadata": {},
   "outputs": [
    {
     "name": "stdout",
     "output_type": "stream",
     "text": [
      "root\n",
      " |-- name: string (nullable = true)\n",
      " |-- age: long (nullable = true)\n",
      "\n",
      "+-----+---+\n",
      "| name|age|\n",
      "+-----+---+\n",
      "| John| 19|\n",
      "|Smith| 29|\n",
      "| Adam| 35|\n",
      "|Henry| 50|\n",
      "+-----+---+\n",
      "\n"
     ]
    }
   ],
   "source": [
    "DF_ppl = sqlContext.createDataFrame(ppl)\n",
    "DF_ppl.printSchema()\n",
    "DF_ppl.show()"
   ]
  },
  {
   "cell_type": "code",
   "execution_count": 9,
   "id": "fac3f1a0",
   "metadata": {},
   "outputs": [],
   "source": [
    "from pyspark import SparkFiles\n",
    "df = sqlContext.read.csv(SparkFiles.get(\"/home/souro/AI-ML-Training_Mindmajix/adult_data.csv\"), header=True, inferSchema= True)"
   ]
  },
  {
   "cell_type": "code",
   "execution_count": 10,
   "id": "accd9c04",
   "metadata": {},
   "outputs": [
    {
     "name": "stdout",
     "output_type": "stream",
     "text": [
      "root\n",
      " |-- x: integer (nullable = true)\n",
      " |-- age: integer (nullable = true)\n",
      " |-- workclass: string (nullable = true)\n",
      " |-- fnlwgt: integer (nullable = true)\n",
      " |-- education: string (nullable = true)\n",
      " |-- educational-num: integer (nullable = true)\n",
      " |-- marital-status: string (nullable = true)\n",
      " |-- occupation: string (nullable = true)\n",
      " |-- relationship: string (nullable = true)\n",
      " |-- race: string (nullable = true)\n",
      " |-- gender: string (nullable = true)\n",
      " |-- capital-gain: integer (nullable = true)\n",
      " |-- capital-loss: integer (nullable = true)\n",
      " |-- hours-per-week: integer (nullable = true)\n",
      " |-- native-country: string (nullable = true)\n",
      " |-- income: string (nullable = true)\n",
      "\n"
     ]
    }
   ],
   "source": [
    "df.printSchema()"
   ]
  },
  {
   "cell_type": "code",
   "execution_count": 11,
   "id": "54d2c320",
   "metadata": {},
   "outputs": [
    {
     "name": "stdout",
     "output_type": "stream",
     "text": [
      "+---+---+---------+------+------------+---------------+------------------+-----------------+------------+-----+------+------------+------------+--------------+--------------+------+\n",
      "|x  |age|workclass|fnlwgt|education   |educational-num|marital-status    |occupation       |relationship|race |gender|capital-gain|capital-loss|hours-per-week|native-country|income|\n",
      "+---+---+---------+------+------------+---------------+------------------+-----------------+------------+-----+------+------------+------------+--------------+--------------+------+\n",
      "|1  |25 |Private  |226802|11th        |7              |Never-married     |Machine-op-inspct|Own-child   |Black|Male  |0           |0           |40            |United-States |<=50K |\n",
      "|2  |38 |Private  |89814 |HS-grad     |9              |Married-civ-spouse|Farming-fishing  |Husband     |White|Male  |0           |0           |50            |United-States |<=50K |\n",
      "|3  |28 |Local-gov|336951|Assoc-acdm  |12             |Married-civ-spouse|Protective-serv  |Husband     |White|Male  |0           |0           |40            |United-States |>50K  |\n",
      "|4  |44 |Private  |160323|Some-college|10             |Married-civ-spouse|Machine-op-inspct|Husband     |Black|Male  |7688        |0           |40            |United-States |>50K  |\n",
      "|5  |18 |?        |103497|Some-college|10             |Never-married     |?                |Own-child   |White|Female|0           |0           |30            |United-States |<=50K |\n",
      "+---+---+---------+------+------------+---------------+------------------+-----------------+------------+-----+------+------------+------------+--------------+--------------+------+\n",
      "only showing top 5 rows\n",
      "\n"
     ]
    }
   ],
   "source": [
    "df.show(5, truncate = False)"
   ]
  },
  {
   "cell_type": "code",
   "execution_count": 13,
   "id": "fd00862e",
   "metadata": {},
   "outputs": [
    {
     "name": "stdout",
     "output_type": "stream",
     "text": [
      "root\n",
      " |-- x: integer (nullable = true)\n",
      " |-- age: float (nullable = true)\n",
      " |-- workclass: string (nullable = true)\n",
      " |-- fnlwgt: float (nullable = true)\n",
      " |-- education: string (nullable = true)\n",
      " |-- educational-num: float (nullable = true)\n",
      " |-- marital-status: string (nullable = true)\n",
      " |-- occupation: string (nullable = true)\n",
      " |-- relationship: string (nullable = true)\n",
      " |-- race: string (nullable = true)\n",
      " |-- gender: string (nullable = true)\n",
      " |-- capital-gain: float (nullable = true)\n",
      " |-- capital-loss: float (nullable = true)\n",
      " |-- hours-per-week: float (nullable = true)\n",
      " |-- native-country: string (nullable = true)\n",
      " |-- income: string (nullable = true)\n",
      "\n"
     ]
    }
   ],
   "source": [
    "from pyspark.sql.types import *\n",
    "\n",
    "# Write a custom function to convert the data type of DataFrame columns\n",
    "def convertColumn(df, names, newType):\n",
    "    for name in names: \n",
    "        df = df.withColumn(name, df[name].cast(newType))\n",
    "    return df \n",
    "# List of continuous features\n",
    "CONTI_FEATURES  = ['age', 'fnlwgt','capital-gain', 'educational-num', 'capital-loss', 'hours-per-week']\n",
    "# Convert the type\n",
    "df = convertColumn(df, CONTI_FEATURES, FloatType())\n",
    "# Check the dataset\n",
    "df.printSchema()"
   ]
  },
  {
   "cell_type": "code",
   "execution_count": 14,
   "id": "68d6a2b9",
   "metadata": {},
   "outputs": [
    {
     "name": "stdout",
     "output_type": "stream",
     "text": [
      "+----+--------+\n",
      "| age|  fnlwgt|\n",
      "+----+--------+\n",
      "|25.0|226802.0|\n",
      "|38.0| 89814.0|\n",
      "|28.0|336951.0|\n",
      "|44.0|160323.0|\n",
      "|18.0|103497.0|\n",
      "+----+--------+\n",
      "only showing top 5 rows\n",
      "\n"
     ]
    }
   ],
   "source": [
    "df.select('age','fnlwgt').show(5)"
   ]
  },
  {
   "cell_type": "code",
   "execution_count": 15,
   "id": "c19a3906",
   "metadata": {},
   "outputs": [
    {
     "name": "stdout",
     "output_type": "stream",
     "text": [
      "+------------+-----+\n",
      "|   education|count|\n",
      "+------------+-----+\n",
      "|   Preschool|   83|\n",
      "|     1st-4th|  247|\n",
      "|     5th-6th|  509|\n",
      "|   Doctorate|  594|\n",
      "|        12th|  657|\n",
      "|         9th|  756|\n",
      "| Prof-school|  834|\n",
      "|     7th-8th|  955|\n",
      "|        10th| 1389|\n",
      "|  Assoc-acdm| 1601|\n",
      "|        11th| 1812|\n",
      "|   Assoc-voc| 2061|\n",
      "|     Masters| 2657|\n",
      "|   Bachelors| 8025|\n",
      "|Some-college|10878|\n",
      "|     HS-grad|15784|\n",
      "+------------+-----+\n",
      "\n"
     ]
    }
   ],
   "source": [
    "df.groupBy(\"education\").count().sort(\"count\",ascending=True).show()"
   ]
  },
  {
   "cell_type": "code",
   "execution_count": 16,
   "id": "d0764409",
   "metadata": {},
   "outputs": [
    {
     "name": "stdout",
     "output_type": "stream",
     "text": [
      "+-------+------------------+-----------------+-----------+------------------+------------+------------------+--------------+----------------+------------+------------------+------+------------------+------------------+------------------+--------------+------+\n",
      "|summary|                 x|              age|  workclass|            fnlwgt|   education|   educational-num|marital-status|      occupation|relationship|              race|gender|      capital-gain|      capital-loss|    hours-per-week|native-country|income|\n",
      "+-------+------------------+-----------------+-----------+------------------+------------+------------------+--------------+----------------+------------+------------------+------+------------------+------------------+------------------+--------------+------+\n",
      "|  count|             48842|            48842|      48842|             48842|       48842|             48842|         48842|           48842|       48842|             48842| 48842|             48842|             48842|             48842|         48842| 48842|\n",
      "|   mean|           24421.5|38.64358543876172|       null|189664.13459727284|        null|10.078088530363212|          null|            null|        null|              null|  null|1079.0676262233324| 87.50231358257237|40.422382375824085|          null|  null|\n",
      "| stddev|14099.615260708357|13.71050993444351|       null|105604.02542315745|        null|2.5709727555922592|          null|            null|        null|              null|  null| 7452.019057655418|403.00455212435895|12.391444024252309|          null|  null|\n",
      "|    min|                 1|             17.0|          ?|           12285.0|        10th|               1.0|      Divorced|               ?|     Husband|Amer-Indian-Eskimo|Female|               0.0|               0.0|               1.0|             ?| <=50K|\n",
      "|    max|             48842|             90.0|Without-pay|         1490400.0|Some-college|              16.0|       Widowed|Transport-moving|        Wife|             White|  Male|           99999.0|            4356.0|              99.0|    Yugoslavia|  >50K|\n",
      "+-------+------------------+-----------------+-----------+------------------+------------+------------------+--------------+----------------+------------+------------------+------+------------------+------------------+------------------+--------------+------+\n",
      "\n"
     ]
    }
   ],
   "source": [
    "df.describe().show()"
   ]
  },
  {
   "cell_type": "code",
   "execution_count": 17,
   "id": "69506b58",
   "metadata": {},
   "outputs": [
    {
     "name": "stdout",
     "output_type": "stream",
     "text": [
      "+-------+------------------+\n",
      "|summary|      capital-gain|\n",
      "+-------+------------------+\n",
      "|  count|             48842|\n",
      "|   mean|1079.0676262233324|\n",
      "| stddev| 7452.019057655418|\n",
      "|    min|               0.0|\n",
      "|    max|           99999.0|\n",
      "+-------+------------------+\n",
      "\n"
     ]
    }
   ],
   "source": [
    "df.describe('capital-gain').show()"
   ]
  },
  {
   "cell_type": "code",
   "execution_count": 18,
   "id": "1f95c4b8",
   "metadata": {},
   "outputs": [
    {
     "data": {
      "text/plain": [
       "20211"
      ]
     },
     "execution_count": 18,
     "metadata": {},
     "output_type": "execute_result"
    }
   ],
   "source": [
    "df.filter(df.age > 40).count()"
   ]
  },
  {
   "cell_type": "markdown",
   "id": "47c0223e",
   "metadata": {},
   "source": [
    "# pymongo"
   ]
  },
  {
   "cell_type": "code",
   "execution_count": null,
   "id": "786545b1",
   "metadata": {},
   "outputs": [],
   "source": [
    "from pymongo import MongoClient\n",
    "\n",
    "#Creating a pymongo client\n",
    "client = MongoClient('localhost', 27017)\n",
    "\n",
    "#Getting the database instance\n",
    "db = client['mydb']\n",
    "print(\"Database created........\")\n",
    "\n",
    "#Verification\n",
    "print(\"List of databases after creating new one\")\n",
    "print(client.list_database_names())"
   ]
  },
  {
   "cell_type": "code",
   "execution_count": null,
   "id": "60f0dd2b",
   "metadata": {},
   "outputs": [],
   "source": [
    "from pymongo import MongoClient\n",
    "\n",
    "#Creating a pymongo client\n",
    "client = MongoClient('localhost', 27017)\n",
    "\n",
    "#Getting the database instance\n",
    "db = client['mydb']\n",
    "\n",
    "#Creating a collection\n",
    "collection = db['souro_collection']\n",
    "print(\"Collection created........\")"
   ]
  },
  {
   "cell_type": "code",
   "execution_count": null,
   "id": "78459f4b",
   "metadata": {},
   "outputs": [],
   "source": [
    "from pymongo import MongoClient\n",
    "\n",
    "#Creating a pymongo client\n",
    "client = MongoClient(\"mongodb://localhost:27017/\")\n",
    "\n",
    "#Getting the database instance\n",
    "db = client['mydb']\n",
    "\n",
    "#Creating a collection\n",
    "coll = db['souro_collection']\n",
    "\n",
    "#Inserting document into a collection\n",
    "doc1 = {\"name\": \"Souro\", \"id\": \"5\", \"city\": \"Prague\"}\n",
    "coll.insert_one(doc1)\n",
    "print(coll.find_one())"
   ]
  },
  {
   "cell_type": "code",
   "execution_count": null,
   "id": "a1bc4878",
   "metadata": {},
   "outputs": [],
   "source": [
    "from pymongo import MongoClient\n",
    "\n",
    "#Creating a pymongo client\n",
    "client = MongoClient('localhost', 27017)\n",
    "\n",
    "#Getting the database instance\n",
    "db = client['mydb']\n",
    "\n",
    "#Creating a collection\n",
    "coll = db['souro_collection']\n",
    "\n",
    "#Inserting document into a collection\n",
    "data = [\n",
    "   {\n",
    "      \"_id\": \"101\", \n",
    "      \"name\": \"Souro1\", \n",
    "      \"id\": \"1\", \n",
    "      \"city\": \"Prague1\"\n",
    "   },\n",
    "   {\n",
    "      \"_id\": \"102\", \n",
    "      \"name\": \"Souro2\", \n",
    "      \"id\": \"2\", \n",
    "      \"city\": \"Prague2\"\n",
    "   },\n",
    "   {\n",
    "      \"_id\": \"103\", \n",
    "      \"name\": \"Souro3\", \n",
    "      \"id\": \"3\", \n",
    "      \"city\": \"Prague3\"\n",
    "   }\n",
    "]\n",
    "res = coll.insert_many(data)\n",
    "print(\"Data inserted ......\")\n",
    "print(res.inserted_ids)"
   ]
  },
  {
   "cell_type": "code",
   "execution_count": null,
   "id": "6774038a",
   "metadata": {},
   "outputs": [],
   "source": [
    "#Retrieving the first record using the find_one() method\n",
    "print(\"First record of the collection: \")\n",
    "print(coll.find_one())\n",
    "\n",
    "#Retrieving a record with is 103 using the find_one() method\n",
    "print(\"Record whose id is 103: \")\n",
    "print(coll.find_one({\"_id\": \"103\"}))"
   ]
  },
  {
   "cell_type": "code",
   "execution_count": null,
   "id": "136789b6",
   "metadata": {},
   "outputs": [],
   "source": [
    "#Retrieving all the records using the find() method\n",
    "print(\"Records of the collection: \")\n",
    "for doc1 in coll.find():\n",
    "    print(doc1)"
   ]
  },
  {
   "cell_type": "code",
   "execution_count": null,
   "id": "791d592a",
   "metadata": {},
   "outputs": [],
   "source": [
    "for doc1 in coll.find().sort(\"city\"):\n",
    "   print(doc1)"
   ]
  },
  {
   "cell_type": "code",
   "execution_count": null,
   "id": "e7c1598b",
   "metadata": {},
   "outputs": [],
   "source": [
    "coll.delete_one({\"id\" : \"2\"})"
   ]
  },
  {
   "cell_type": "code",
   "execution_count": null,
   "id": "b6c9caa1",
   "metadata": {},
   "outputs": [],
   "source": [
    "collections = db.list_collection_names()\n",
    "for coll in collections:\n",
    "   print(coll)\n"
   ]
  },
  {
   "cell_type": "code",
   "execution_count": null,
   "id": "a95cd608",
   "metadata": {},
   "outputs": [],
   "source": [
    "db.drop_collection(coll)"
   ]
  },
  {
   "cell_type": "code",
   "execution_count": null,
   "id": "a45ca116",
   "metadata": {},
   "outputs": [],
   "source": []
  }
 ],
 "metadata": {
  "kernelspec": {
   "display_name": "Python 3",
   "language": "python",
   "name": "python3"
  },
  "language_info": {
   "codemirror_mode": {
    "name": "ipython",
    "version": 3
   },
   "file_extension": ".py",
   "mimetype": "text/x-python",
   "name": "python",
   "nbconvert_exporter": "python",
   "pygments_lexer": "ipython3",
   "version": "3.6.9"
  }
 },
 "nbformat": 4,
 "nbformat_minor": 5
}
